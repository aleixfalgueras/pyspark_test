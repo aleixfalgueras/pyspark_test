{
  "nbformat": 4,
  "nbformat_minor": 0,
  "metadata": {
    "colab": {
      "provenance": [],
      "include_colab_link": true
    },
    "kernelspec": {
      "name": "python3",
      "display_name": "Python 3"
    },
    "language_info": {
      "name": "python"
    }
  },
  "cells": [
    {
      "cell_type": "markdown",
      "metadata": {
        "id": "view-in-github",
        "colab_type": "text"
      },
      "source": [
        "<a href=\"https://colab.research.google.com/github/aleixfalgueras/pyspark_test/blob/master/data_cleaning_ckpt_2.ipynb\" target=\"_parent\"><img src=\"https://colab.research.google.com/assets/colab-badge.svg\" alt=\"Open In Colab\"/></a>"
      ]
    },
    {
      "cell_type": "code",
      "execution_count": null,
      "metadata": {
        "id": "NSoQ-vZRqz8G"
      },
      "outputs": [],
      "source": [
        "from google.colab import drive\n",
        "drive.mount('/content/drive')\n",
        "\n",
        "import pandas as pd\n",
        "import numpy as np\n",
        "import calendar \n",
        "\n",
        "#limpieza usados\n",
        "anuncios_usados = pd.read_csv(\"/content/drive/MyDrive/hackathon_NEX/data/Anuncios_usados.csv\", keep_default_na = True)\n",
        "\n",
        "def monthToNum(shortMonth):\n",
        "    return {\n",
        "      'January': '01',\n",
        "      'February': '02',\n",
        "      'March': '03',\n",
        "      'April': '04',\n",
        "      'May': '05',\n",
        "      'June': '06',\n",
        "      'July': '07',\n",
        "      'August': '08',\n",
        "      'September': '09',\n",
        "      'October': '10',\n",
        "      'November': '11',\n",
        "      'December': '12'\n",
        "      }[shortMonth]\n",
        "\n",
        "anuncios_usados['Dates_clean'] = anuncios_usados['Ad_Date'].str.replace('\\W', '')\n",
        "anuncios_usados['ad_year'] = anuncios_usados['Dates_clean'].str[-4:]\n",
        "anuncios_usados['ad_month_str'] = anuncios_usados['Dates_clean'].str[:-4]\n",
        "anuncios_usados['ad_month'] = anuncios_usados['ad_month_str'].apply(monthToNum)\n",
        "\n",
        "\n",
        "anuncios_usados['date'] = pd.to_datetime(anuncios_usados[['ad_year','ad_month']].apply(lambda x: '-'.join(x.values.astype(str)), axis=\"columns\"))\n",
        "#rellenar nullos en categoricas fechas\n",
        "\n",
        "anuncios_usados['Reg_year'] = anuncios_usados['Reg_year'].round()\n",
        "anuncios_usados['Engin_size'] = anuncios_usados['Engin_size'].str.extract('([0-9][,.]*[0-9]*)')\n",
        "anuncios_usados['Top_speed'] = anuncios_usados['Top_speed'].str.extract('([0-9][,.]*[0-9]*)')\n",
        "anuncios_usados['Average_mpg'] = anuncios_usados['Average_mpg'].str.extract('([0-9][,.]*[0-9]*)')\n",
        "anuncios_usados['Runned_Miles'] = anuncios_usados['Runned_Miles'].str.extract('([0-9][,.]*[0-9]*)')\n",
        "\n",
        "anuncios_usados['Color'] = anuncios_usados['Color'].fillna('Other')\n",
        "anuncios_usados['Bodytype'] = anuncios_usados['Bodytype'].fillna('Other')\n",
        "anuncios_usados['Gearbox'] = anuncios_usados['Gearbox'].fillna('Other')\n",
        "anuncios_usados['Fuel_type'] = anuncios_usados['Fuel_type'].fillna('Other')\n",
        "\n",
        "anuncios_usados['Runned_Miles'] = pd.to_numeric(anuncios_usados['Runned_Miles'])\n",
        "anuncios_usados['Engin_size'] = pd.to_numeric(anuncios_usados['Engin_size'])\n",
        "anuncios_usados['Average_mpg'] = pd.to_numeric(anuncios_usados['Average_mpg'])\n",
        "anuncios_usados['Top_speed'] = pd.to_numeric(anuncios_usados['Top_speed'])\n",
        "\n",
        "\n",
        "anuncios_usados.describe()"
      ]
    },
    {
      "cell_type": "code",
      "source": [
        "versiones_df = pd.read_csv(\"/content/drive/MyDrive/hackathon_NEX/data/Versiones.csv\")\n",
        "\n",
        "print(versiones_df)\n",
        "print(versiones_df.info())"
      ],
      "metadata": {
        "id": "2jeOah3QrKRP"
      },
      "execution_count": null,
      "outputs": []
    },
    {
      "cell_type": "code",
      "source": [
        "tipo_cambio_df = pd.read_csv(\"/content/drive/MyDrive/hackathon_NEX/data/Tipo_de_cambio.csv\")\n",
        "# print(tipo_cambio_df)\n",
        "# print(tipo_cambio_df.info())\n",
        "\n",
        "tipo_cambio_df['year'] = tipo_cambio_df['date'].str.slice(start=0, stop=4)\n",
        "tipo_cambio_df_median = tipo_cambio_df.groupby('year')[['value']].median()\n",
        "tipo_cambio_df_median_no_index = tipo_cambio_df_median.reset_index()\n",
        "\n",
        "tipo_cambio_df_median_no_index_2 = tipo_cambio_df_median_no_index['year'].astype(str).astype(int)\n",
        "\n",
        "versiones_df = versiones_df.rename(columns={'Year': 'year'})\n",
        "\n",
        "print(tipo_cambio_df_median_no_index_2.info())\n",
        "\n",
        "versiones_tipo_cambio = versiones_df.merge(tipo_cambio_df_median_no_index_2, on='year', how='left')\n",
        "\n",
        "print(versiones_tipo_cambio)"
      ],
      "metadata": {
        "id": "61Huxe4BrPYH"
      },
      "execution_count": null,
      "outputs": []
    }
  ]
}